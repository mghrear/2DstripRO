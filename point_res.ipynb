{
 "cells": [
  {
   "cell_type": "code",
   "execution_count": 1,
   "metadata": {},
   "outputs": [],
   "source": [
    "import numpy as np\n",
    "import pandas as pd\n",
    "import matplotlib.pyplot as plt\n",
    "import stripROtools\n",
    "import matplotlib.pyplot as plt\n",
    "import matplotlib.cm as cmx\n",
    "import matplotlib\n",
    "from mpl_toolkits.mplot3d import Axes3D\n",
    "from scipy import stats\n",
    "from scipy.optimize import curve_fit\n",
    "from scipy.stats import crystalball\n",
    "from stripROtools import colors\n",
    "\n",
    "\n"
   ]
  },
  {
   "cell_type": "code",
   "execution_count": 2,
   "metadata": {},
   "outputs": [
    {
     "data": {
      "text/html": [
       "<div>\n",
       "<style scoped>\n",
       "    .dataframe tbody tr th:only-of-type {\n",
       "        vertical-align: middle;\n",
       "    }\n",
       "\n",
       "    .dataframe tbody tr th {\n",
       "        vertical-align: top;\n",
       "    }\n",
       "\n",
       "    .dataframe thead th {\n",
       "        text-align: right;\n",
       "    }\n",
       "</style>\n",
       "<table border=\"1\" class=\"dataframe\">\n",
       "  <thead>\n",
       "    <tr style=\"text-align: right;\">\n",
       "      <th></th>\n",
       "      <th>Name</th>\n",
       "      <th>x_res</th>\n",
       "      <th>x_res_err</th>\n",
       "      <th>y_res</th>\n",
       "      <th>y_res_err</th>\n",
       "      <th>abs_z</th>\n",
       "    </tr>\n",
       "  </thead>\n",
       "  <tbody>\n",
       "    <tr>\n",
       "      <th>0</th>\n",
       "      <td>UH_DLC_a</td>\n",
       "      <td>[41.11546853463489, 42.005214285034825, 45.172...</td>\n",
       "      <td>[0.9201750826904775, 0.8964145049534142, 1.332...</td>\n",
       "      <td>[40.325914735675795, 40.68594121518411, 43.446...</td>\n",
       "      <td>[0.8507159537741418, 0.9116217543339238, 1.027...</td>\n",
       "      <td>[0.2, 0.4, 0.6, 0.8, 1.0]</td>\n",
       "    </tr>\n",
       "    <tr>\n",
       "      <th>1</th>\n",
       "      <td>UH_NoDLC_a</td>\n",
       "      <td>[48.45428958991054, 46.207126822868794, 46.584...</td>\n",
       "      <td>[0.8447887242545079, 0.7911698409572208, 0.845...</td>\n",
       "      <td>[46.45362472008663, 46.024015446588514, 47.543...</td>\n",
       "      <td>[0.7735217181687978, 0.793808523893467, 0.8728...</td>\n",
       "      <td>[0.2, 0.4, 0.6, 0.8, 1.0]</td>\n",
       "    </tr>\n",
       "    <tr>\n",
       "      <th>2</th>\n",
       "      <td>UoS</td>\n",
       "      <td>[40.71875776099373, 40.90418013900924, 42.0841...</td>\n",
       "      <td>[1.2876681182961534, 1.2648396845327274, 1.423...</td>\n",
       "      <td>[39.79312496875324, 38.18073355181505, 41.5288...</td>\n",
       "      <td>[1.2327089931415198, 1.0780988612807185, 1.340...</td>\n",
       "      <td>[0.2, 0.4, 0.6, 0.8, 1.0]</td>\n",
       "    </tr>\n",
       "  </tbody>\n",
       "</table>\n",
       "</div>"
      ],
      "text/plain": [
       "         Name                                              x_res  \\\n",
       "0    UH_DLC_a  [41.11546853463489, 42.005214285034825, 45.172...   \n",
       "1  UH_NoDLC_a  [48.45428958991054, 46.207126822868794, 46.584...   \n",
       "2         UoS  [40.71875776099373, 40.90418013900924, 42.0841...   \n",
       "\n",
       "                                           x_res_err  \\\n",
       "0  [0.9201750826904775, 0.8964145049534142, 1.332...   \n",
       "1  [0.8447887242545079, 0.7911698409572208, 0.845...   \n",
       "2  [1.2876681182961534, 1.2648396845327274, 1.423...   \n",
       "\n",
       "                                               y_res  \\\n",
       "0  [40.325914735675795, 40.68594121518411, 43.446...   \n",
       "1  [46.45362472008663, 46.024015446588514, 47.543...   \n",
       "2  [39.79312496875324, 38.18073355181505, 41.5288...   \n",
       "\n",
       "                                           y_res_err  \\\n",
       "0  [0.8507159537741418, 0.9116217543339238, 1.027...   \n",
       "1  [0.7735217181687978, 0.793808523893467, 0.8728...   \n",
       "2  [1.2327089931415198, 1.0780988612807185, 1.340...   \n",
       "\n",
       "                       abs_z  \n",
       "0  [0.2, 0.4, 0.6, 0.8, 1.0]  \n",
       "1  [0.2, 0.4, 0.6, 0.8, 1.0]  \n",
       "2  [0.2, 0.4, 0.6, 0.8, 1.0]  "
      ]
     },
     "execution_count": 2,
     "metadata": {},
     "output_type": "execute_result"
    }
   ],
   "source": [
    "# Load exp data\n",
    "df_exp = pd.read_pickle(\"./data/resolution_exp.pk\")\n",
    "\n",
    "# Load sim data\n",
    "df_sim = pd.read_pickle(\"./data/resolution_sim.pk\")\n",
    "\n",
    "\n",
    "df_sim.head()"
   ]
  },
  {
   "cell_type": "code",
   "execution_count": 3,
   "metadata": {},
   "outputs": [],
   "source": [
    "# fit function used to determine contributions to effective point resolution that are not included in simulation\n",
    "def fit(x, a):\n",
    "\treturn np.sqrt(x**2 + a**2)"
   ]
  },
  {
   "cell_type": "markdown",
   "metadata": {},
   "source": [
    "# UH DLC Quadrant a"
   ]
  },
  {
   "cell_type": "code",
   "execution_count": 4,
   "metadata": {},
   "outputs": [
    {
     "data": {
      "image/png": "[encoded data removed]",
      "text/plain": [
       "<Figure size 432x288 with 1 Axes>"
      ]
     },
     "metadata": {
      "needs_background": "light"
     },
     "output_type": "display_data"
    }
   ],
   "source": [
    "# index specifying detector\n",
    "index = 0\n",
    "\n",
    "abs_z = np.array(df_exp.iloc[index].abs_z)\n",
    "x_res = np.array(df_exp.iloc[index].x_res)\n",
    "x_res_err = np.array(df_exp.iloc[index].x_res_err)\n",
    "y_res = np.array(df_exp.iloc[index].y_res)\n",
    "y_res_err = np.array(df_exp.iloc[index].y_res_err)\n",
    "x_res_sim = np.array(df_sim.iloc[index].x_res)\n",
    "x_res_err_sim = np.array(df_sim.iloc[index].x_res_err)\n",
    "y_res_sim = np.array(df_sim.iloc[index].y_res)\n",
    "y_res_err_sim = np.array(df_sim.iloc[index].y_res_err)\n",
    "\n",
    "\n",
    "plt.figure()\n",
    "plt.errorbar(abs_z,x_res_sim,x_res_err_sim,color=colors[\"blue\"],label=\"$\\sigma_{\\Delta x}^{sim.}$\")\n",
    "plt.errorbar(abs_z,y_res_sim,y_res_err_sim,color=colors[\"red\"],label=\"$\\sigma_{\\Delta y}^{sim.}$\")\n",
    "plt.errorbar(abs_z,x_res,x_res_err, color=colors[\"blue\"],fmt='o',label=\"$\\sigma_{\\Delta x}^{exp.}$\")\n",
    "plt.errorbar(abs_z,y_res,y_res_err, color=colors[\"red\"],fmt='o',label=\"$\\sigma_{\\Delta y}^{exp.}$\")\n",
    "plt.xticks(fontsize=17)\n",
    "plt.yticks(fontsize=17)\n",
    "plt.legend(ncol=2,fontsize=17)\n",
    "plt.ylim((0,200))\n",
    "plt.xlabel(\"Abs. z [cm]\",fontsize=17)\n",
    "plt.ylabel(\"Mismeasurment [um]\",fontsize=17)\n",
    "plt.tight_layout()\n",
    "plt.savefig(\"./figures/UH_DLC_PR.pdf\")\n"
   ]
  },
  {
   "cell_type": "code",
   "execution_count": 5,
   "metadata": {},
   "outputs": [
    {
     "name": "stdout",
     "output_type": "stream",
     "text": [
      "The additional point res. contribution on the x strips is:  35.535718581061744 +/- 3.0729621070057638\n",
      "The additional point res. contribution on the y strips is:  20.235239847612227 +/- 4.11548726756449\n"
     ]
    }
   ],
   "source": [
    "# Fit simulation data + additional resolution term to experimental data on the x strips\n",
    "\n",
    "x_vals = x_res_sim\n",
    "sigmas = np.sqrt(x_res_err**2 + x_res_err_sim**2)\n",
    "y_vals = x_res\n",
    "\n",
    "coeff, covar = curve_fit(fit, x_vals, y_vals, sigma=sigmas, absolute_sigma=True)\n",
    "\n",
    "\n",
    "print(\"The additional point res. contribution on the x strips is: \", coeff[0], \"+/-\", np.sqrt(np.diag(covar))[0])\n",
    "\n",
    "\n",
    "x_vals = y_res_sim\n",
    "sigmas = np.sqrt(y_res_err**2 + y_res_err_sim**2)\n",
    "y_vals = y_res\n",
    "\n",
    "coeff, covar = curve_fit(fit, x_vals, y_vals, sigma=sigmas, absolute_sigma=True)\n",
    "\n",
    "\n",
    "print(\"The additional point res. contribution on the y strips is: \", coeff[0], \"+/-\", np.sqrt(np.diag(covar))[0])\n",
    "\n",
    "\n"
   ]
  },
  {
   "cell_type": "markdown",
   "metadata": {},
   "source": [
    "# UH NoDLC Quadrant a"
   ]
  },
  {
   "cell_type": "code",
   "execution_count": 6,
   "metadata": {},
   "outputs": [
    {
     "data": {
      "image/png": "[encoded data removed]",
      "text/plain": [
       "<Figure size 432x288 with 1 Axes>"
      ]
     },
     "metadata": {
      "needs_background": "light"
     },
     "output_type": "display_data"
    }
   ],
   "source": [
    "# index specifying detector\n",
    "index = 1\n",
    "\n",
    "abs_z = np.array(df_exp.iloc[index].abs_z)\n",
    "x_res = np.array(df_exp.iloc[index].x_res)\n",
    "x_res_err = np.array(df_exp.iloc[index].x_res_err)\n",
    "y_res = np.array(df_exp.iloc[index].y_res)\n",
    "y_res_err = np.array(df_exp.iloc[index].y_res_err)\n",
    "x_res_sim = np.array(df_sim.iloc[index].x_res)\n",
    "x_res_err_sim = np.array(df_sim.iloc[index].x_res_err)\n",
    "y_res_sim = np.array(df_sim.iloc[index].y_res)\n",
    "y_res_err_sim = np.array(df_sim.iloc[index].y_res_err)\n",
    "\n",
    "\n",
    "plt.figure()\n",
    "plt.errorbar(abs_z,x_res_sim,x_res_err_sim,color=colors[\"blue\"],label=\"$\\sigma_{\\Delta x}^{sim.}$\")\n",
    "plt.errorbar(abs_z,y_res_sim,y_res_err_sim,color=colors[\"red\"],label=\"$\\sigma_{\\Delta y}^{sim.}$\")\n",
    "plt.errorbar(abs_z,x_res,x_res_err, color=colors[\"blue\"],fmt='o',label=\"$\\sigma_{\\Delta x}^{exp.}$\")\n",
    "plt.errorbar(abs_z,y_res,y_res_err, color=colors[\"red\"],fmt='o',label=\"$\\sigma_{\\Delta y}^{exp.}$\")\n",
    "plt.xticks(fontsize=17)\n",
    "plt.yticks(fontsize=17)\n",
    "plt.legend(ncol=2,fontsize=17)\n",
    "plt.ylim((0,200))\n",
    "plt.xlabel(\"Abs. z [cm]\",fontsize=17)\n",
    "plt.ylabel(\"Mismeasurment [um]\",fontsize=17)\n",
    "plt.tight_layout()\n",
    "plt.savefig(\"./figures/UH_NoDLC_PR.pdf\")\n"
   ]
  },
  {
   "cell_type": "code",
   "execution_count": 7,
   "metadata": {},
   "outputs": [
    {
     "name": "stdout",
     "output_type": "stream",
     "text": [
      "The additional point res. contribution on the x strips is:  28.852705179600164 +/- 3.243325565409449\n",
      "The additional point res. contribution on the y strips is:  24.08779516873634 +/- 3.6873680262160313\n"
     ]
    }
   ],
   "source": [
    "# Fit simulation data + additional resolution term to experimental data on the x strips\n",
    "\n",
    "x_vals = x_res_sim\n",
    "sigmas = np.sqrt(x_res_err**2 + x_res_err_sim**2)\n",
    "y_vals = x_res\n",
    "\n",
    "coeff, covar = curve_fit(fit, x_vals, y_vals, sigma=sigmas, absolute_sigma=True)\n",
    "\n",
    "\n",
    "print(\"The additional point res. contribution on the x strips is: \", coeff[0], \"+/-\", np.sqrt(np.diag(covar))[0])\n",
    "\n",
    "\n",
    "x_vals = y_res_sim\n",
    "sigmas = np.sqrt(y_res_err**2 + y_res_err_sim**2)\n",
    "y_vals = y_res\n",
    "\n",
    "coeff, covar = curve_fit(fit, x_vals, y_vals, sigma=sigmas, absolute_sigma=True)\n",
    "\n",
    "\n",
    "print(\"The additional point res. contribution on the y strips is: \", coeff[0], \"+/-\", np.sqrt(np.diag(covar))[0])\n",
    "\n",
    "\n"
   ]
  },
  {
   "cell_type": "markdown",
   "metadata": {},
   "source": [
    "# UoS Detector"
   ]
  },
  {
   "cell_type": "code",
   "execution_count": 8,
   "metadata": {},
   "outputs": [
    {
     "data": {
      "image/png": "[encoded data removed]",
      "text/plain": [
       "<Figure size 432x288 with 1 Axes>"
      ]
     },
     "metadata": {
      "needs_background": "light"
     },
     "output_type": "display_data"
    }
   ],
   "source": [
    "# index specifying detector\n",
    "index = 2\n",
    "\n",
    "##### Note!!! ##### \n",
    "# We switch x and y since the x strips are the upper strips in the (actual) UoS detector\n",
    "# The plots in Po210.ipynb do not include this switch\n",
    "\n",
    "abs_z = np.array(df_exp.iloc[index].abs_z)\n",
    "x_res = np.array(df_exp.iloc[index].y_res)\n",
    "x_res_err = np.array(df_exp.iloc[index].y_res_err)\n",
    "y_res = np.array(df_exp.iloc[index].x_res)\n",
    "y_res_err = np.array(df_exp.iloc[index].x_res_err)\n",
    "\n",
    "x_res_sim = np.array(df_sim.iloc[index].x_res)\n",
    "x_res_err_sim = np.array(df_sim.iloc[index].x_res_err)\n",
    "y_res_sim = np.array(df_sim.iloc[index].y_res)\n",
    "y_res_err_sim = np.array(df_sim.iloc[index].y_res_err)\n",
    "\n",
    "\n",
    "plt.figure()\n",
    "plt.errorbar(abs_z,x_res_sim,x_res_err_sim,color=colors[\"blue\"],label=\"$\\sigma_{\\Delta x}^{sim.}$\")\n",
    "plt.errorbar(abs_z,y_res_sim,y_res_err_sim,color=colors[\"red\"],label=\"$\\sigma_{\\Delta y}^{sim.}$\")\n",
    "plt.errorbar(abs_z,x_res,x_res_err, color=colors[\"blue\"],fmt='o',label=\"$\\sigma_{\\Delta x}^{exp.}$\")\n",
    "plt.errorbar(abs_z,y_res,y_res_err, color=colors[\"red\"],fmt='o',label=\"$\\sigma_{\\Delta y}^{exp.}$\")\n",
    "plt.xticks(fontsize=17)\n",
    "plt.yticks(fontsize=17)\n",
    "plt.legend(ncol=2,fontsize=17)\n",
    "plt.ylim((0,350))\n",
    "plt.xlabel(\"Abs. z [cm]\",fontsize=17)\n",
    "plt.ylabel(\"Mismeasurment [um]\",fontsize=17)\n",
    "plt.tight_layout()\n",
    "plt.savefig(\"./figures/UoS_PR.pdf\")\n"
   ]
  },
  {
   "cell_type": "code",
   "execution_count": 9,
   "metadata": {},
   "outputs": [
    {
     "name": "stdout",
     "output_type": "stream",
     "text": [
      "The additional point res. contribution on the x strips is:  4.5305807898342465 +/- 39.725528903440676\n",
      "The additional point res. contribution on the y strips is:  64.3316476851484 +/- 14.342946204367092\n"
     ]
    }
   ],
   "source": [
    "# Fit simulation data + additional resolution term to experimental data on the x strips\n",
    "\n",
    "\n",
    "x_vals = x_res_sim\n",
    "sigmas = np.sqrt(x_res_err**2 + x_res_err_sim**2)\n",
    "y_vals = x_res\n",
    "\n",
    "coeff, covar = curve_fit(fit, x_vals, y_vals, sigma=sigmas, absolute_sigma=True)\n",
    "\n",
    "\n",
    "print(\"The additional point res. contribution on the x strips is: \", coeff[0], \"+/-\", np.sqrt(np.diag(covar))[0])\n",
    "\n",
    "\n",
    "x_vals = y_res_sim\n",
    "sigmas = np.sqrt(y_res_err**2 + y_res_err_sim**2)\n",
    "y_vals = y_res\n",
    "\n",
    "coeff, covar = curve_fit(fit, x_vals, y_vals, sigma=sigmas, absolute_sigma=True)\n",
    "\n",
    "\n",
    "print(\"The additional point res. contribution on the y strips is: \", coeff[0], \"+/-\", np.sqrt(np.diag(covar))[0])\n",
    "\n",
    "\n"
   ]
  },
  {
   "cell_type": "code",
   "execution_count": null,
   "metadata": {},
   "outputs": [],
   "source": []
  }
 ],
 "metadata": {
  "kernelspec": {
   "display_name": "Python 3.7.3 ('my_root_env')",
   "language": "python",
   "name": "python3"
  },
  "language_info": {
   "codemirror_mode": {
    "name": "ipython",
    "version": 3
   },
   "file_extension": ".py",
   "mimetype": "text/x-python",
   "name": "python",
   "nbconvert_exporter": "python",
   "pygments_lexer": "ipython3",
   "version": "3.7.3"
  },
  "vscode": {
   "interpreter": {
    "hash": "e137a2665c242313c11d472736bb1efbdaf7608c607fce3fc4f47a32817024ba"
   }
  }
 },
 "nbformat": 4,
 "nbformat_minor": 4
}
