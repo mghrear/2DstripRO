{
 "cells": [
  {
   "cell_type": "code",
   "execution_count": 1,
   "metadata": {},
   "outputs": [],
   "source": [
    "import numpy as np\n",
    "import pandas as pd\n",
    "import matplotlib.pyplot as plt\n",
    "import stripROtools\n",
    "import matplotlib.pyplot as plt\n",
    "import matplotlib.cm as cmx\n",
    "import matplotlib\n",
    "from mpl_toolkits.mplot3d import Axes3D\n",
    "from scipy import stats\n",
    "from scipy.optimize import curve_fit\n",
    "from scipy.stats import crystalball\n",
    "from stripROtools import colors\n",
    "\n",
    "\n"
   ]
  },
  {
   "cell_type": "code",
   "execution_count": 2,
   "metadata": {},
   "outputs": [
    {
     "data": {
      "text/html": [
       "<div>\n",
       "<style scoped>\n",
       "    .dataframe tbody tr th:only-of-type {\n",
       "        vertical-align: middle;\n",
       "    }\n",
       "\n",
       "    .dataframe tbody tr th {\n",
       "        vertical-align: top;\n",
       "    }\n",
       "\n",
       "    .dataframe thead th {\n",
       "        text-align: right;\n",
       "    }\n",
       "</style>\n",
       "<table border=\"1\" class=\"dataframe\">\n",
       "  <thead>\n",
       "    <tr style=\"text-align: right;\">\n",
       "      <th></th>\n",
       "      <th>Name</th>\n",
       "      <th>x_res</th>\n",
       "      <th>x_res_err</th>\n",
       "      <th>y_res</th>\n",
       "      <th>y_res_err</th>\n",
       "      <th>abs_z</th>\n",
       "    </tr>\n",
       "  </thead>\n",
       "  <tbody>\n",
       "    <tr>\n",
       "      <th>0</th>\n",
       "      <td>UH_DLC_a</td>\n",
       "      <td>[38.77810545176335, 35.22943553467575, 38.0863...</td>\n",
       "      <td>[0.0007765748978853815, 0.0008391479314021729,...</td>\n",
       "      <td>[40.7902965897492, 38.72557396847153, 43.55672...</td>\n",
       "      <td>[0.0009326616105153065, 0.0008739772390221997,...</td>\n",
       "      <td>[0.1, 0.3, 0.5, 0.7, 0.9, 1.1]</td>\n",
       "    </tr>\n",
       "    <tr>\n",
       "      <th>1</th>\n",
       "      <td>UH_NoDLC_a</td>\n",
       "      <td>[43.61871777026019, 41.57178281767986, 41.1792...</td>\n",
       "      <td>[0.000706572985031821, 0.0008616424104633634, ...</td>\n",
       "      <td>[44.29153976421668, 46.06120528985288, 42.4980...</td>\n",
       "      <td>[0.0006854052676493003, 0.0008841854342560201,...</td>\n",
       "      <td>[0.1, 0.3, 0.5, 0.7, 0.9, 1.1]</td>\n",
       "    </tr>\n",
       "    <tr>\n",
       "      <th>2</th>\n",
       "      <td>UoS</td>\n",
       "      <td>[38.33678984026937, 34.36161870947947, 36.2944...</td>\n",
       "      <td>[0.0003466565065767244, 0.000335634590370781, ...</td>\n",
       "      <td>[41.7026477542917, 36.34327814478202, 35.68110...</td>\n",
       "      <td>[0.0004015573023818841, 0.00033888198866150913...</td>\n",
       "      <td>[0.1, 0.3, 0.5, 0.7, 0.9, 1.1]</td>\n",
       "    </tr>\n",
       "  </tbody>\n",
       "</table>\n",
       "</div>"
      ],
      "text/plain": [
       "         Name                                              x_res  \\\n",
       "0    UH_DLC_a  [38.77810545176335, 35.22943553467575, 38.0863...   \n",
       "1  UH_NoDLC_a  [43.61871777026019, 41.57178281767986, 41.1792...   \n",
       "2         UoS  [38.33678984026937, 34.36161870947947, 36.2944...   \n",
       "\n",
       "                                           x_res_err  \\\n",
       "0  [0.0007765748978853815, 0.0008391479314021729,...   \n",
       "1  [0.000706572985031821, 0.0008616424104633634, ...   \n",
       "2  [0.0003466565065767244, 0.000335634590370781, ...   \n",
       "\n",
       "                                               y_res  \\\n",
       "0  [40.7902965897492, 38.72557396847153, 43.55672...   \n",
       "1  [44.29153976421668, 46.06120528985288, 42.4980...   \n",
       "2  [41.7026477542917, 36.34327814478202, 35.68110...   \n",
       "\n",
       "                                           y_res_err  \\\n",
       "0  [0.0009326616105153065, 0.0008739772390221997,...   \n",
       "1  [0.0006854052676493003, 0.0008841854342560201,...   \n",
       "2  [0.0004015573023818841, 0.00033888198866150913...   \n",
       "\n",
       "                            abs_z  \n",
       "0  [0.1, 0.3, 0.5, 0.7, 0.9, 1.1]  \n",
       "1  [0.1, 0.3, 0.5, 0.7, 0.9, 1.1]  \n",
       "2  [0.1, 0.3, 0.5, 0.7, 0.9, 1.1]  "
      ]
     },
     "execution_count": 2,
     "metadata": {},
     "output_type": "execute_result"
    }
   ],
   "source": [
    "# Load exp data\n",
    "df_exp = pd.read_pickle(\"./data/resolution_exp.pk\")\n",
    "\n",
    "# Load sim data\n",
    "df_sim = pd.read_pickle(\"./data/resolution_sim.pk\")\n",
    "\n",
    "\n",
    "df_sim.head()"
   ]
  },
  {
   "cell_type": "code",
   "execution_count": 3,
   "metadata": {},
   "outputs": [],
   "source": [
    "# fit function used to determine contributions to effective point resolution that are not included in simulation\n",
    "def fit(x, a):\n",
    "\treturn np.sqrt(x**2 + a**2)"
   ]
  },
  {
   "cell_type": "markdown",
   "metadata": {},
   "source": [
    "# UH DLC Quadrant a"
   ]
  },
  {
   "cell_type": "code",
   "execution_count": 4,
   "metadata": {},
   "outputs": [
    {
     "data": {
      "image/png": "[encoded data removed]",
      "text/plain": [
       "<Figure size 432x288 with 1 Axes>"
      ]
     },
     "metadata": {
      "needs_background": "light"
     },
     "output_type": "display_data"
    }
   ],
   "source": [
    "# index specifying detector\n",
    "index = 0\n",
    "\n",
    "abs_z = np.array(df_exp.iloc[index].abs_z)\n",
    "x_res = np.array(df_exp.iloc[index].x_res)\n",
    "x_res_err = np.array(df_exp.iloc[index].x_res_err)\n",
    "y_res = np.array(df_exp.iloc[index].y_res)\n",
    "y_res_err = np.array(df_exp.iloc[index].y_res_err)\n",
    "x_res_sim = np.array(df_sim.iloc[index].x_res)\n",
    "x_res_err_sim = np.array(df_sim.iloc[index].x_res_err)\n",
    "y_res_sim = np.array(df_sim.iloc[index].y_res)\n",
    "y_res_err_sim = np.array(df_sim.iloc[index].y_res_err)\n",
    "\n",
    "DTrans = 0.0135\n",
    "\n",
    "\n",
    "plt.figure()\n",
    "plt.errorbar(abs_z,x_res_sim,x_res_err_sim,color=colors[\"blue\"],label=\"$\\sigma_{\\Delta x}^{sim.}$\")\n",
    "plt.errorbar(abs_z,y_res_sim,y_res_err_sim,color=colors[\"red\"],label=\"$\\sigma_{\\Delta y}^{sim.}$\")\n",
    "plt.errorbar(abs_z,x_res,x_res_err, color=colors[\"blue\"],fmt='o',label=\"$\\sigma_{\\Delta x}^{exp.}$\")\n",
    "plt.errorbar(abs_z,y_res,y_res_err, color=colors[\"red\"],fmt='o',label=\"$\\sigma_{\\Delta y}^{exp.}$\")\n",
    "#plt.plot(abs_z, np.sqrt( ( 200/np.sqrt(12) )**2 +(np.sqrt(abs_z)*DTrans*10000)**2), color=colors[\"black\"] )\n",
    "plt.xticks(fontsize=17)\n",
    "plt.yticks(fontsize=17)\n",
    "plt.legend(ncol=2,fontsize=17)\n",
    "plt.ylim((0,200))\n",
    "plt.xlabel(\"Abs. z [cm]\",fontsize=17)\n",
    "plt.ylabel(\"Mismeasurment [um]\",fontsize=17)\n",
    "plt.tight_layout()\n",
    "plt.savefig(\"./figures/UH_DLC_PR.pdf\")\n"
   ]
  },
  {
   "cell_type": "code",
   "execution_count": 5,
   "metadata": {},
   "outputs": [
    {
     "name": "stdout",
     "output_type": "stream",
     "text": [
      "The additional point res. contribution on the x strips is:  28.44473193580289 +/- 2.0900253760157956\n",
      "The additional point res. contribution on the y strips is:  14.61471607467013 +/- 3.530988560163976\n"
     ]
    }
   ],
   "source": [
    "# Fit simulation data + additional resolution term to experimental data on the x strips\n",
    "\n",
    "x_vals = x_res_sim\n",
    "sigmas = np.sqrt(x_res_err**2 + x_res_err_sim**2)\n",
    "y_vals = x_res\n",
    "\n",
    "coeff, covar = curve_fit(fit, x_vals, y_vals, sigma=sigmas, absolute_sigma=True)\n",
    "\n",
    "\n",
    "print(\"The additional point res. contribution on the x strips is: \", coeff[0], \"+/-\", np.sqrt(np.diag(covar))[0])\n",
    "\n",
    "\n",
    "x_vals = y_res_sim\n",
    "sigmas = np.sqrt(y_res_err**2 + y_res_err_sim**2)\n",
    "y_vals = y_res\n",
    "\n",
    "coeff, covar = curve_fit(fit, x_vals, y_vals, sigma=sigmas, absolute_sigma=True)\n",
    "\n",
    "\n",
    "print(\"The additional point res. contribution on the y strips is: \", coeff[0], \"+/-\", np.sqrt(np.diag(covar))[0])\n",
    "\n",
    "\n"
   ]
  },
  {
   "cell_type": "markdown",
   "metadata": {},
   "source": [
    "# UH NoDLC Quadrant a"
   ]
  },
  {
   "cell_type": "code",
   "execution_count": 6,
   "metadata": {},
   "outputs": [
    {
     "data": {
      "image/png": "[encoded data removed]",
      "text/plain": [
       "<Figure size 432x288 with 1 Axes>"
      ]
     },
     "metadata": {
      "needs_background": "light"
     },
     "output_type": "display_data"
    }
   ],
   "source": [
    "# index specifying detector\n",
    "index = 1\n",
    "\n",
    "abs_z = np.array(df_exp.iloc[index].abs_z)\n",
    "x_res = np.array(df_exp.iloc[index].x_res)\n",
    "x_res_err = np.array(df_exp.iloc[index].x_res_err)\n",
    "y_res = np.array(df_exp.iloc[index].y_res)\n",
    "y_res_err = np.array(df_exp.iloc[index].y_res_err)\n",
    "x_res_sim = np.array(df_sim.iloc[index].x_res)\n",
    "x_res_err_sim = np.array(df_sim.iloc[index].x_res_err)\n",
    "y_res_sim = np.array(df_sim.iloc[index].y_res)\n",
    "y_res_err_sim = np.array(df_sim.iloc[index].y_res_err)\n",
    "\n",
    "\n",
    "plt.figure()\n",
    "plt.errorbar(abs_z,x_res_sim,x_res_err_sim,color=colors[\"blue\"],label=\"$\\sigma_{\\Delta x}^{sim.}$\")\n",
    "plt.errorbar(abs_z,y_res_sim,y_res_err_sim,color=colors[\"red\"],label=\"$\\sigma_{\\Delta y}^{sim.}$\")\n",
    "plt.errorbar(abs_z,x_res,x_res_err, color=colors[\"blue\"],fmt='o',label=\"$\\sigma_{\\Delta x}^{exp.}$\")\n",
    "plt.errorbar(abs_z,y_res,y_res_err, color=colors[\"red\"],fmt='o',label=\"$\\sigma_{\\Delta y}^{exp.}$\")\n",
    "plt.xticks(fontsize=17)\n",
    "plt.yticks(fontsize=17)\n",
    "plt.legend(ncol=2,fontsize=17)\n",
    "plt.ylim((0,200))\n",
    "plt.xlabel(\"Abs. z [cm]\",fontsize=17)\n",
    "plt.ylabel(\"Mismeasurment [um]\",fontsize=17)\n",
    "plt.tight_layout()\n",
    "plt.savefig(\"./figures/UH_NoDLC_PR.pdf\")\n"
   ]
  },
  {
   "cell_type": "code",
   "execution_count": 7,
   "metadata": {},
   "outputs": [
    {
     "name": "stdout",
     "output_type": "stream",
     "text": [
      "The additional point res. contribution on the x strips is:  27.259817808004247 +/- 2.2905894367446287\n",
      "The additional point res. contribution on the y strips is:  16.635957831380644 +/- 3.4966717465015615\n"
     ]
    }
   ],
   "source": [
    "# Fit simulation data + additional resolution term to experimental data on the x strips\n",
    "\n",
    "x_vals = x_res_sim\n",
    "sigmas = np.sqrt(x_res_err**2 + x_res_err_sim**2)\n",
    "y_vals = x_res\n",
    "\n",
    "coeff, covar = curve_fit(fit, x_vals, y_vals, sigma=sigmas, absolute_sigma=True)\n",
    "\n",
    "\n",
    "print(\"The additional point res. contribution on the x strips is: \", coeff[0], \"+/-\", np.sqrt(np.diag(covar))[0])\n",
    "\n",
    "\n",
    "x_vals = y_res_sim\n",
    "sigmas = np.sqrt(y_res_err**2 + y_res_err_sim**2)\n",
    "y_vals = y_res\n",
    "\n",
    "coeff, covar = curve_fit(fit, x_vals, y_vals, sigma=sigmas, absolute_sigma=True)\n",
    "\n",
    "\n",
    "print(\"The additional point res. contribution on the y strips is: \", coeff[0], \"+/-\", np.sqrt(np.diag(covar))[0])\n",
    "\n",
    "\n"
   ]
  },
  {
   "cell_type": "markdown",
   "metadata": {},
   "source": [
    "# UoS Detector"
   ]
  },
  {
   "cell_type": "code",
   "execution_count": 10,
   "metadata": {},
   "outputs": [
    {
     "data": {
      "image/png": "[encoded data removed]",
      "text/plain": [
       "<Figure size 432x288 with 1 Axes>"
      ]
     },
     "metadata": {
      "needs_background": "light"
     },
     "output_type": "display_data"
    }
   ],
   "source": [
    "# index specifying detector\n",
    "index = 2\n",
    "\n",
    "##### Note!!! ##### \n",
    "# We switch x and y since the x strips are the upper strips in the (actual) UoS detector\n",
    "# The plots in Po210.ipynb do not include this switch\n",
    "\n",
    "abs_z_sim = np.array(df_sim.iloc[index].abs_z)\n",
    "abs_z_exp = np.array(df_exp.iloc[index].abs_z)\n",
    "\n",
    "\n",
    "x_res = np.array(df_exp.iloc[index].y_res)\n",
    "x_res_err = np.array(df_exp.iloc[index].y_res_err)\n",
    "y_res = np.array(df_exp.iloc[index].x_res)\n",
    "y_res_err = np.array(df_exp.iloc[index].x_res_err)\n",
    "\n",
    "x_res_sim = np.array(df_sim.iloc[index].x_res)\n",
    "x_res_err_sim = np.array(df_sim.iloc[index].x_res_err)\n",
    "y_res_sim = np.array(df_sim.iloc[index].y_res)\n",
    "y_res_err_sim = np.array(df_sim.iloc[index].y_res_err)\n",
    "\n",
    "\n",
    "plt.figure()\n",
    "plt.errorbar(abs_z_sim[0:5],x_res_sim[0:5],x_res_err_sim[0:5],color=colors[\"blue\"],label=\"$\\sigma_{\\Delta x}^{sim.}$\")\n",
    "plt.errorbar(abs_z_sim[0:5],y_res_sim[0:5],y_res_err_sim[0:5],color=colors[\"red\"],label=\"$\\sigma_{\\Delta y}^{sim.}$\")\n",
    "plt.errorbar(abs_z_exp,x_res,x_res_err, color=colors[\"blue\"],fmt='o',label=\"$\\sigma_{\\Delta x}^{exp.}$\")\n",
    "plt.errorbar(abs_z_exp,y_res,y_res_err, color=colors[\"red\"],fmt='o',label=\"$\\sigma_{\\Delta y}^{exp.}$\")\n",
    "plt.xticks(fontsize=17)\n",
    "plt.yticks(fontsize=17)\n",
    "plt.legend(ncol=2,fontsize=17)\n",
    "plt.ylim((0,350))\n",
    "plt.xlabel(\"Abs. z [cm]\",fontsize=17)\n",
    "plt.ylabel(\"Mismeasurment [um]\",fontsize=17)\n",
    "plt.tight_layout()\n",
    "plt.savefig(\"./figures/UoS_PR.pdf\")\n"
   ]
  },
  {
   "cell_type": "code",
   "execution_count": 9,
   "metadata": {},
   "outputs": [
    {
     "name": "stdout",
     "output_type": "stream",
     "text": [
      "The additional point res. contribution on the x strips is:  23.602437130178128 +/- 6.433690066438835\n",
      "The additional point res. contribution on the y strips is:  67.16252120080348 +/- 7.901098451820707\n"
     ]
    }
   ],
   "source": [
    "# Fit simulation data + additional resolution term to experimental data on the x strips\n",
    "\n",
    "\n",
    "x_vals = x_res_sim[0:len(abs_z_exp)]\n",
    "sigmas = np.sqrt(x_res_err**2 + (x_res_err_sim[0:len(abs_z_exp)])**2)\n",
    "y_vals = x_res\n",
    "\n",
    "coeff, covar = curve_fit(fit, x_vals, y_vals, sigma=sigmas, absolute_sigma=True)\n",
    "\n",
    "\n",
    "print(\"The additional point res. contribution on the x strips is: \", coeff[0], \"+/-\", np.sqrt(np.diag(covar))[0])\n",
    "\n",
    "\n",
    "x_vals = y_res_sim[0:len(abs_z_exp)]\n",
    "sigmas = np.sqrt(y_res_err**2 + (y_res_err_sim[0:len(abs_z_exp)])**2)\n",
    "y_vals = y_res\n",
    "\n",
    "coeff, covar = curve_fit(fit, x_vals, y_vals, sigma=sigmas, absolute_sigma=True)\n",
    "\n",
    "\n",
    "print(\"The additional point res. contribution on the y strips is: \", coeff[0], \"+/-\", np.sqrt(np.diag(covar))[0])\n",
    "\n",
    "\n"
   ]
  },
  {
   "cell_type": "code",
   "execution_count": null,
   "metadata": {},
   "outputs": [],
   "source": []
  }
 ],
 "metadata": {
  "kernelspec": {
   "display_name": "Python 3.7.3 ('my_root_env')",
   "language": "python",
   "name": "python3"
  },
  "language_info": {
   "codemirror_mode": {
    "name": "ipython",
    "version": 3
   },
   "file_extension": ".py",
   "mimetype": "text/x-python",
   "name": "python",
   "nbconvert_exporter": "python",
   "pygments_lexer": "ipython3",
   "version": "3.7.3"
  },
  "vscode": {
   "interpreter": {
    "hash": "e137a2665c242313c11d472736bb1efbdaf7608c607fce3fc4f47a32817024ba"
   }
  }
 },
 "nbformat": 4,
 "nbformat_minor": 4
}
