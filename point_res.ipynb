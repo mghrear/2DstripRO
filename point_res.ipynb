{
 "cells": [
  {
   "cell_type": "code",
   "execution_count": 40,
   "metadata": {},
   "outputs": [],
   "source": [
    "import numpy as np\n",
    "import pandas as pd\n",
    "import matplotlib.pyplot as plt\n",
    "import stripROtools\n",
    "import matplotlib.pyplot as plt\n",
    "import matplotlib.cm as cmx\n",
    "import matplotlib\n",
    "from mpl_toolkits.mplot3d import Axes3D\n",
    "from scipy import stats\n",
    "from scipy.optimize import curve_fit\n",
    "from scipy.stats import crystalball\n",
    "from stripROtools import colors\n",
    "\n",
    "\n"
   ]
  },
  {
   "cell_type": "code",
   "execution_count": 41,
   "metadata": {},
   "outputs": [
    {
     "data": {
      "text/html": [
       "<div>\n",
       "<style scoped>\n",
       "    .dataframe tbody tr th:only-of-type {\n",
       "        vertical-align: middle;\n",
       "    }\n",
       "\n",
       "    .dataframe tbody tr th {\n",
       "        vertical-align: top;\n",
       "    }\n",
       "\n",
       "    .dataframe thead th {\n",
       "        text-align: right;\n",
       "    }\n",
       "</style>\n",
       "<table border=\"1\" class=\"dataframe\">\n",
       "  <thead>\n",
       "    <tr style=\"text-align: right;\">\n",
       "      <th></th>\n",
       "      <th>Name</th>\n",
       "      <th>x_res</th>\n",
       "      <th>x_res_err</th>\n",
       "      <th>y_res</th>\n",
       "      <th>y_res_err</th>\n",
       "      <th>abs_z</th>\n",
       "    </tr>\n",
       "  </thead>\n",
       "  <tbody>\n",
       "    <tr>\n",
       "      <th>0</th>\n",
       "      <td>UH_DLC_a</td>\n",
       "      <td>[34.045612937729175, 37.93117629440438, 42.201...</td>\n",
       "      <td>[0.7774841621400261, 0.8847999379596257, 1.204...</td>\n",
       "      <td>[32.464293076702376, 37.59738400218201, 38.875...</td>\n",
       "      <td>[0.7001572914125886, 0.8736214967563497, 1.030...</td>\n",
       "      <td>[0.2, 0.4, 0.6, 0.8, 1.0]</td>\n",
       "    </tr>\n",
       "    <tr>\n",
       "      <th>1</th>\n",
       "      <td>UH_NoDLC_a</td>\n",
       "      <td>[35.791632016640094, 36.263705497496524, 40.36...</td>\n",
       "      <td>[0.7563048047957545, 0.772270965779326, 0.9434...</td>\n",
       "      <td>[35.18306153858504, 37.957143598248685, 40.663...</td>\n",
       "      <td>[0.7420353250853728, 0.9042310778405518, 0.957...</td>\n",
       "      <td>[0.2, 0.4, 0.6, 0.8, 1.0]</td>\n",
       "    </tr>\n",
       "    <tr>\n",
       "      <th>2</th>\n",
       "      <td>UoS</td>\n",
       "      <td>[40.56625036440854, 42.462545457024305, 44.868...</td>\n",
       "      <td>[1.8554779326656698, 1.9656106776320232, 1.997...</td>\n",
       "      <td>[34.444773219054376, 39.95694579568049, 42.980...</td>\n",
       "      <td>[1.6690208566163975, 1.8642747571056064, 1.971...</td>\n",
       "      <td>[0.2, 0.4, 0.6, 0.8, 1.0]</td>\n",
       "    </tr>\n",
       "  </tbody>\n",
       "</table>\n",
       "</div>"
      ],
      "text/plain": [
       "         Name                                              x_res  \\\n",
       "0    UH_DLC_a  [34.045612937729175, 37.93117629440438, 42.201...   \n",
       "1  UH_NoDLC_a  [35.791632016640094, 36.263705497496524, 40.36...   \n",
       "2         UoS  [40.56625036440854, 42.462545457024305, 44.868...   \n",
       "\n",
       "                                           x_res_err  \\\n",
       "0  [0.7774841621400261, 0.8847999379596257, 1.204...   \n",
       "1  [0.7563048047957545, 0.772270965779326, 0.9434...   \n",
       "2  [1.8554779326656698, 1.9656106776320232, 1.997...   \n",
       "\n",
       "                                               y_res  \\\n",
       "0  [32.464293076702376, 37.59738400218201, 38.875...   \n",
       "1  [35.18306153858504, 37.957143598248685, 40.663...   \n",
       "2  [34.444773219054376, 39.95694579568049, 42.980...   \n",
       "\n",
       "                                           y_res_err  \\\n",
       "0  [0.7001572914125886, 0.8736214967563497, 1.030...   \n",
       "1  [0.7420353250853728, 0.9042310778405518, 0.957...   \n",
       "2  [1.6690208566163975, 1.8642747571056064, 1.971...   \n",
       "\n",
       "                       abs_z  \n",
       "0  [0.2, 0.4, 0.6, 0.8, 1.0]  \n",
       "1  [0.2, 0.4, 0.6, 0.8, 1.0]  \n",
       "2  [0.2, 0.4, 0.6, 0.8, 1.0]  "
      ]
     },
     "execution_count": 41,
     "metadata": {},
     "output_type": "execute_result"
    }
   ],
   "source": [
    "# Load exp data\n",
    "df_exp = pd.read_pickle(\"./data/resolution_exp.pk\")\n",
    "\n",
    "# Load sim data\n",
    "df_sim = pd.read_pickle(\"./data/resolution_sim.pk\")\n",
    "\n",
    "\n",
    "df_sim.head()"
   ]
  },
  {
   "cell_type": "code",
   "execution_count": 42,
   "metadata": {},
   "outputs": [],
   "source": [
    "# fit function used to determine contributions to effective point resolution that are not included in simulation\n",
    "def fit(x, a):\n",
    "\treturn np.sqrt(x**2 + a**2)"
   ]
  },
  {
   "cell_type": "markdown",
   "metadata": {},
   "source": [
    "# UH DLC Quadrant a"
   ]
  },
  {
   "cell_type": "code",
   "execution_count": 43,
   "metadata": {},
   "outputs": [
    {
     "data": {
      "image/png": "[encoded data removed]",
      "text/plain": [
       "<Figure size 432x288 with 1 Axes>"
      ]
     },
     "metadata": {
      "needs_background": "light"
     },
     "output_type": "display_data"
    }
   ],
   "source": [
    "# index specifying detector\n",
    "index = 0\n",
    "\n",
    "abs_z = np.array(df_exp.iloc[index].abs_z)\n",
    "x_res = np.array(df_exp.iloc[index].x_res)\n",
    "x_res_err = np.array(df_exp.iloc[index].x_res_err)\n",
    "y_res = np.array(df_exp.iloc[index].y_res)\n",
    "y_res_err = np.array(df_exp.iloc[index].y_res_err)\n",
    "x_res_sim = np.array(df_sim.iloc[index].x_res)\n",
    "x_res_err_sim = np.array(df_sim.iloc[index].x_res_err)\n",
    "y_res_sim = np.array(df_sim.iloc[index].y_res)\n",
    "y_res_err_sim = np.array(df_sim.iloc[index].y_res_err)\n",
    "\n",
    "\n",
    "plt.figure()\n",
    "plt.errorbar(abs_z,x_res_sim,x_res_err_sim,color=colors[\"blue\"],label=\"Sim. Res. x strips\")\n",
    "plt.errorbar(abs_z,y_res_sim,y_res_err_sim,color=colors[\"red\"],label=\"Sim. Res. y strips\")\n",
    "plt.errorbar(abs_z,x_res,x_res_err, color=colors[\"blue\"],fmt='o',label=\"Exp. Res. x strips\", capthick=2)\n",
    "plt.errorbar(abs_z,y_res,y_res_err, color=colors[\"red\"],fmt='o',label=\"Exp. Res. y strips\", capthick=2)\n",
    "#plt.plot(x_ref,y_ref,color=colors[\"black\"],label=\"Expected\")\n",
    "plt.legend()\n",
    "plt.ylim((0,200))\n",
    "plt.xlabel(\"Abs. z [cm]\")\n",
    "plt.ylabel(\"Effective Point Resolution [um]\")\n",
    "plt.savefig(\"./figures/UH_DLC_PR.pdf\")\n"
   ]
  },
  {
   "cell_type": "code",
   "execution_count": 44,
   "metadata": {},
   "outputs": [
    {
     "name": "stdout",
     "output_type": "stream",
     "text": [
      "The additional point res. contribution on the x strips is:  33.864391440239324 +/- 5.069681294873083\n",
      "The additional point res. contribution on the y strips is:  17.010684113389523 +/- 6.78221152028607\n"
     ]
    }
   ],
   "source": [
    "# Fit simulation data + additional resolution term to experimental data on the x strips\n",
    "\n",
    "x_vals = x_res_sim\n",
    "sigmas = np.sqrt(x_res_err**2 + x_res_err_sim**2)\n",
    "y_vals = x_res\n",
    "\n",
    "coeff, covar = curve_fit(fit, x_vals, y_vals, sigma=sigmas, absolute_sigma=True)\n",
    "\n",
    "\n",
    "print(\"The additional point res. contribution on the x strips is: \", coeff[0], \"+/-\", np.sqrt(np.diag(covar))[0])\n",
    "\n",
    "\n",
    "x_vals = y_res_sim\n",
    "sigmas = np.sqrt(y_res_err**2 + y_res_err_sim**2)\n",
    "y_vals = y_res\n",
    "\n",
    "coeff, covar = curve_fit(fit, x_vals, y_vals, sigma=sigmas, absolute_sigma=True)\n",
    "\n",
    "\n",
    "print(\"The additional point res. contribution on the y strips is: \", coeff[0], \"+/-\", np.sqrt(np.diag(covar))[0])\n",
    "\n",
    "\n"
   ]
  },
  {
   "cell_type": "markdown",
   "metadata": {},
   "source": [
    "# UH NoDLC Quadrant a"
   ]
  },
  {
   "cell_type": "code",
   "execution_count": 45,
   "metadata": {},
   "outputs": [
    {
     "data": {
      "image/png": "[encoded data removed]",
      "text/plain": [
       "<Figure size 432x288 with 1 Axes>"
      ]
     },
     "metadata": {
      "needs_background": "light"
     },
     "output_type": "display_data"
    }
   ],
   "source": [
    "# index specifying detector\n",
    "index = 1\n",
    "\n",
    "abs_z = np.array(df_exp.iloc[index].abs_z)\n",
    "x_res = np.array(df_exp.iloc[index].x_res)\n",
    "x_res_err = np.array(df_exp.iloc[index].x_res_err)\n",
    "y_res = np.array(df_exp.iloc[index].y_res)\n",
    "y_res_err = np.array(df_exp.iloc[index].y_res_err)\n",
    "x_res_sim = np.array(df_sim.iloc[index].x_res)\n",
    "x_res_err_sim = np.array(df_sim.iloc[index].x_res_err)\n",
    "y_res_sim = np.array(df_sim.iloc[index].y_res)\n",
    "y_res_err_sim = np.array(df_sim.iloc[index].y_res_err)\n",
    "\n",
    "\n",
    "plt.figure()\n",
    "plt.errorbar(abs_z,x_res_sim,x_res_err_sim,color=colors[\"blue\"],label=\"Sim. Res. x strips\")\n",
    "plt.errorbar(abs_z,y_res_sim,y_res_err_sim,color=colors[\"red\"],label=\"Sim. Res. y strips\")\n",
    "plt.errorbar(abs_z,x_res,x_res_err, color=colors[\"blue\"],fmt='o',label=\"Exp. Res. x strips\", capthick=2)\n",
    "plt.errorbar(abs_z,y_res,y_res_err, color=colors[\"red\"],fmt='o',label=\"Exp. Res. y strips\", capthick=2)\n",
    "#plt.plot(x_ref,y_ref,color=colors[\"black\"],label=\"Expected\")\n",
    "plt.legend()\n",
    "plt.ylim((0,200))\n",
    "plt.xlabel(\"Abs. z [cm]\")\n",
    "plt.ylabel(\"Effective Point Resolution [um]\")\n",
    "plt.savefig(\"./figures/UH_NoDLC_PR.pdf\")\n"
   ]
  },
  {
   "cell_type": "code",
   "execution_count": 46,
   "metadata": {},
   "outputs": [
    {
     "name": "stdout",
     "output_type": "stream",
     "text": [
      "The additional point res. contribution on the x strips is:  30.449573752128206 +/- 4.766080619188571\n",
      "The additional point res. contribution on the y strips is:  18.441871747546138 +/- 7.09865747563936\n"
     ]
    }
   ],
   "source": [
    "# Fit simulation data + additional resolution term to experimental data on the x strips\n",
    "\n",
    "x_vals = x_res_sim\n",
    "sigmas = np.sqrt(x_res_err**2 + x_res_err_sim**2)\n",
    "y_vals = x_res\n",
    "\n",
    "coeff, covar = curve_fit(fit, x_vals, y_vals, sigma=sigmas, absolute_sigma=True)\n",
    "\n",
    "\n",
    "print(\"The additional point res. contribution on the x strips is: \", coeff[0], \"+/-\", np.sqrt(np.diag(covar))[0])\n",
    "\n",
    "\n",
    "x_vals = y_res_sim\n",
    "sigmas = np.sqrt(y_res_err**2 + y_res_err_sim**2)\n",
    "y_vals = y_res\n",
    "\n",
    "coeff, covar = curve_fit(fit, x_vals, y_vals, sigma=sigmas, absolute_sigma=True)\n",
    "\n",
    "\n",
    "print(\"The additional point res. contribution on the y strips is: \", coeff[0], \"+/-\", np.sqrt(np.diag(covar))[0])\n",
    "\n",
    "\n"
   ]
  },
  {
   "cell_type": "markdown",
   "metadata": {},
   "source": [
    "# UoS Detector"
   ]
  },
  {
   "cell_type": "code",
   "execution_count": 49,
   "metadata": {},
   "outputs": [
    {
     "data": {
      "image/png": "[encoded data removed]",
      "text/plain": [
       "<Figure size 432x288 with 1 Axes>"
      ]
     },
     "metadata": {
      "needs_background": "light"
     },
     "output_type": "display_data"
    }
   ],
   "source": [
    "# index specifying detector\n",
    "index = 2\n",
    "\n",
    "##### Note!!! ##### \n",
    "# We switch x and y since the x strips are the upper strips in the (actual) UoS detector\n",
    "# The plots in Po210.ipynb do not include this switch\n",
    "\n",
    "abs_z = np.array(df_exp.iloc[index].abs_z)\n",
    "x_res = np.array(df_exp.iloc[index].y_res)\n",
    "x_res_err = np.array(df_exp.iloc[index].y_res_err)\n",
    "y_res = np.array(df_exp.iloc[index].x_res)\n",
    "y_res_err = np.array(df_exp.iloc[index].x_res_err)\n",
    "\n",
    "x_res_sim = np.array(df_sim.iloc[index].x_res)\n",
    "x_res_err_sim = np.array(df_sim.iloc[index].x_res_err)\n",
    "y_res_sim = np.array(df_sim.iloc[index].y_res)\n",
    "y_res_err_sim = np.array(df_sim.iloc[index].y_res_err)\n",
    "\n",
    "\n",
    "plt.figure()\n",
    "plt.errorbar(abs_z,x_res_sim,x_res_err_sim,color=colors[\"blue\"],label=\"Sim. Res. x strips\")\n",
    "plt.errorbar(abs_z,y_res_sim,y_res_err_sim,color=colors[\"red\"],label=\"Sim. Res. y strips\")\n",
    "plt.errorbar(abs_z,x_res,x_res_err, color=colors[\"blue\"],fmt='o',label=\"Exp. Res. x strips\", capthick=2)\n",
    "plt.errorbar(abs_z,y_res,y_res_err, color=colors[\"red\"],fmt='o',label=\"Exp. Res. y strips\", capthick=2)\n",
    "#plt.plot(x_ref,y_ref,color=colors[\"black\"],label=\"Expected\")\n",
    "plt.legend()\n",
    "plt.ylim((0,350))\n",
    "plt.xlabel(\"Abs. z [cm]\")\n",
    "plt.ylabel(\"Effective Point Resolution [um]\")\n",
    "plt.savefig(\"./figures/UoS_PR.pdf\")\n"
   ]
  },
  {
   "cell_type": "code",
   "execution_count": 50,
   "metadata": {},
   "outputs": [
    {
     "name": "stdout",
     "output_type": "stream",
     "text": [
      "The additional point res. contribution on the x strips is:  29.286136434085034 +/- 17.505448099568667\n",
      "The additional point res. contribution on the y strips is:  35.729516822231055 +/- 14.410787079274806\n"
     ]
    }
   ],
   "source": [
    "# Fit simulation data + additional resolution term to experimental data on the x strips\n",
    "\n",
    "\n",
    "x_vals = x_res_sim\n",
    "sigmas = np.sqrt(x_res_err**2 + x_res_err_sim**2)\n",
    "y_vals = x_res\n",
    "\n",
    "coeff, covar = curve_fit(fit, x_vals, y_vals, sigma=sigmas, absolute_sigma=True)\n",
    "\n",
    "\n",
    "print(\"The additional point res. contribution on the x strips is: \", coeff[0], \"+/-\", np.sqrt(np.diag(covar))[0])\n",
    "\n",
    "\n",
    "x_vals = y_res_sim\n",
    "sigmas = np.sqrt(y_res_err**2 + y_res_err_sim**2)\n",
    "y_vals = y_res\n",
    "\n",
    "coeff, covar = curve_fit(fit, x_vals, y_vals, sigma=sigmas, absolute_sigma=True)\n",
    "\n",
    "\n",
    "print(\"The additional point res. contribution on the y strips is: \", coeff[0], \"+/-\", np.sqrt(np.diag(covar))[0])\n",
    "\n",
    "\n"
   ]
  },
  {
   "cell_type": "code",
   "execution_count": null,
   "metadata": {},
   "outputs": [],
   "source": []
  }
 ],
 "metadata": {
  "kernelspec": {
   "display_name": "Python 3.7.3 ('my_root_env')",
   "language": "python",
   "name": "python3"
  },
  "language_info": {
   "codemirror_mode": {
    "name": "ipython",
    "version": 3
   },
   "file_extension": ".py",
   "mimetype": "text/x-python",
   "name": "python",
   "nbconvert_exporter": "python",
   "pygments_lexer": "ipython3",
   "version": "3.7.3"
  },
  "vscode": {
   "interpreter": {
    "hash": "e137a2665c242313c11d472736bb1efbdaf7608c607fce3fc4f47a32817024ba"
   }
  }
 },
 "nbformat": 4,
 "nbformat_minor": 4
}
