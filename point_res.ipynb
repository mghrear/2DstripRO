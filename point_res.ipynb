{
 "cells": [
  {
   "cell_type": "code",
   "execution_count": 1,
   "metadata": {},
   "outputs": [],
   "source": [
    "import numpy as np\n",
    "import pandas as pd\n",
    "import matplotlib.pyplot as plt\n",
    "import stripROtools\n",
    "import matplotlib.pyplot as plt\n",
    "import matplotlib.cm as cmx\n",
    "import matplotlib\n",
    "from mpl_toolkits.mplot3d import Axes3D\n",
    "from scipy import stats\n",
    "from scipy.optimize import curve_fit\n",
    "from scipy.stats import crystalball\n",
    "\n"
   ]
  },
  {
   "cell_type": "code",
   "execution_count": 15,
   "metadata": {},
   "outputs": [],
   "source": [
    "# Load exp data\n",
    "df_exp = pd.read_pickle(\"./data/resolution_exp.pk\")\n",
    "\n",
    "# Load sim data\n",
    "df_sim = pd.read_pickle(\"./data/resolution_sim.pk\")\n"
   ]
  },
  {
   "cell_type": "code",
   "execution_count": 16,
   "metadata": {},
   "outputs": [
    {
     "data": {
      "text/html": [
       "<div>\n",
       "<style scoped>\n",
       "    .dataframe tbody tr th:only-of-type {\n",
       "        vertical-align: middle;\n",
       "    }\n",
       "\n",
       "    .dataframe tbody tr th {\n",
       "        vertical-align: top;\n",
       "    }\n",
       "\n",
       "    .dataframe thead th {\n",
       "        text-align: right;\n",
       "    }\n",
       "</style>\n",
       "<table border=\"1\" class=\"dataframe\">\n",
       "  <thead>\n",
       "    <tr style=\"text-align: right;\">\n",
       "      <th></th>\n",
       "      <th>Name</th>\n",
       "      <th>x_res</th>\n",
       "      <th>x_res_err</th>\n",
       "      <th>y_res</th>\n",
       "      <th>y_res_err</th>\n",
       "      <th>abs_z</th>\n",
       "    </tr>\n",
       "  </thead>\n",
       "  <tbody>\n",
       "    <tr>\n",
       "      <th>0</th>\n",
       "      <td>UH_DLC_a</td>\n",
       "      <td>[49.37624293185143, 42.72732761172925, 49.1217...</td>\n",
       "      <td>[8.060205852786922, 4.843954175457175, 6.14201...</td>\n",
       "      <td>[53.78063311920274, 39.710213566939714, 35.187...</td>\n",
       "      <td>[11.02167185664383, 3.935292435289187, 3.92273...</td>\n",
       "      <td>[0.2, 0.4, 0.6, 0.8, 1.0]</td>\n",
       "    </tr>\n",
       "    <tr>\n",
       "      <th>1</th>\n",
       "      <td>UH_NoDLC_a</td>\n",
       "      <td>[55.29362863299129, 40.92980379868777, 46.4563...</td>\n",
       "      <td>[6.650559508891235, 4.203016700035666, 4.82912...</td>\n",
       "      <td>[33.404396882852375, 47.79383415850631, 46.433...</td>\n",
       "      <td>[3.7852412858994704, 10.648521574635893, 7.888...</td>\n",
       "      <td>[0.2, 0.4, 0.6, 0.8, 1.0]</td>\n",
       "    </tr>\n",
       "    <tr>\n",
       "      <th>2</th>\n",
       "      <td>UoS</td>\n",
       "      <td>[95.7666736435635, 44.32468606574737, 93.09687...</td>\n",
       "      <td>[39.46061294585079, 9.665033960326667, 31.0335...</td>\n",
       "      <td>[34.53300909012184, 44.89354369593178, 41.4252...</td>\n",
       "      <td>[6.996992631099758, 9.015357296172645, 12.7678...</td>\n",
       "      <td>[0.2, 0.4, 0.6, 0.8, 1.0]</td>\n",
       "    </tr>\n",
       "  </tbody>\n",
       "</table>\n",
       "</div>"
      ],
      "text/plain": [
       "         Name                                              x_res  \\\n",
       "0    UH_DLC_a  [49.37624293185143, 42.72732761172925, 49.1217...   \n",
       "1  UH_NoDLC_a  [55.29362863299129, 40.92980379868777, 46.4563...   \n",
       "2         UoS  [95.7666736435635, 44.32468606574737, 93.09687...   \n",
       "\n",
       "                                           x_res_err  \\\n",
       "0  [8.060205852786922, 4.843954175457175, 6.14201...   \n",
       "1  [6.650559508891235, 4.203016700035666, 4.82912...   \n",
       "2  [39.46061294585079, 9.665033960326667, 31.0335...   \n",
       "\n",
       "                                               y_res  \\\n",
       "0  [53.78063311920274, 39.710213566939714, 35.187...   \n",
       "1  [33.404396882852375, 47.79383415850631, 46.433...   \n",
       "2  [34.53300909012184, 44.89354369593178, 41.4252...   \n",
       "\n",
       "                                           y_res_err  \\\n",
       "0  [11.02167185664383, 3.935292435289187, 3.92273...   \n",
       "1  [3.7852412858994704, 10.648521574635893, 7.888...   \n",
       "2  [6.996992631099758, 9.015357296172645, 12.7678...   \n",
       "\n",
       "                       abs_z  \n",
       "0  [0.2, 0.4, 0.6, 0.8, 1.0]  \n",
       "1  [0.2, 0.4, 0.6, 0.8, 1.0]  \n",
       "2  [0.2, 0.4, 0.6, 0.8, 1.0]  "
      ]
     },
     "execution_count": 16,
     "metadata": {},
     "output_type": "execute_result"
    }
   ],
   "source": [
    "df_exp "
   ]
  },
  {
   "cell_type": "code",
   "execution_count": 17,
   "metadata": {},
   "outputs": [
    {
     "data": {
      "text/plain": [
       "array([36.81296509, 40.78488265, 39.62488676, 38.18504553, 38.08332042])"
      ]
     },
     "execution_count": 17,
     "metadata": {},
     "output_type": "execute_result"
    }
   ],
   "source": [
    "df_sim.iloc[0].x_res"
   ]
  },
  {
   "cell_type": "code",
   "execution_count": 19,
   "metadata": {},
   "outputs": [],
   "source": [
    "x_vals = df_sim.iloc[0].x_res\n",
    "sigmas = np.sqrt(np.array(df_sim.iloc[0].x_res_err)**2 +np.array(df_exp.iloc[0].x_res_err)**2)\n",
    "y_vals = df_exp.iloc[0].x_res\n"
   ]
  },
  {
   "cell_type": "code",
   "execution_count": 20,
   "metadata": {},
   "outputs": [
    {
     "data": {
      "text/plain": [
       "array([8.23602268, 5.10766496, 6.38082286, 6.90182726, 6.80467478])"
      ]
     },
     "execution_count": 20,
     "metadata": {},
     "output_type": "execute_result"
    }
   ],
   "source": [
    "sigmas\n"
   ]
  },
  {
   "cell_type": "code",
   "execution_count": 22,
   "metadata": {},
   "outputs": [],
   "source": [
    "# fit function\n",
    "def fit(x, a):\n",
    "\treturn np.sqrt(x**2 + a**2)\n",
    "\n",
    "\n",
    "\n",
    "# UH DLC quadrant a, x strips\n",
    "x_vals = df_sim.iloc[0].x_res\n",
    "sigmas = np.sqrt(np.array(df_sim.iloc[0].x_res_err)**2 +np.array(df_exp.iloc[0].x_res_err)**2)\n",
    "y_vals = df_exp.iloc[0].x_res\n",
    "\n",
    "coeff, covar = curve_fit(fit, x_vals, y_vals, sigma=sigmas, absolute_sigma=True)\n",
    "\n",
    "\n",
    "\n"
   ]
  },
  {
   "cell_type": "code",
   "execution_count": 23,
   "metadata": {},
   "outputs": [
    {
     "data": {
      "text/plain": [
       "array([35.44210966])"
      ]
     },
     "execution_count": 23,
     "metadata": {},
     "output_type": "execute_result"
    }
   ],
   "source": [
    "coeff"
   ]
  },
  {
   "cell_type": "code",
   "execution_count": 26,
   "metadata": {},
   "outputs": [
    {
     "data": {
      "text/plain": [
       "array([4.29387054])"
      ]
     },
     "execution_count": 26,
     "metadata": {},
     "output_type": "execute_result"
    }
   ],
   "source": [
    "np.sqrt(np.diag(covar))"
   ]
  }
 ],
 "metadata": {
  "kernelspec": {
   "display_name": "Python 3.7.3 ('my_root_env')",
   "language": "python",
   "name": "python3"
  },
  "language_info": {
   "codemirror_mode": {
    "name": "ipython",
    "version": 3
   },
   "file_extension": ".py",
   "mimetype": "text/x-python",
   "name": "python",
   "nbconvert_exporter": "python",
   "pygments_lexer": "ipython3",
   "version": "3.7.3"
  },
  "vscode": {
   "interpreter": {
    "hash": "e137a2665c242313c11d472736bb1efbdaf7608c607fce3fc4f47a32817024ba"
   }
  }
 },
 "nbformat": 4,
 "nbformat_minor": 4
}
