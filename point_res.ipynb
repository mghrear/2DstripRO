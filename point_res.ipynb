{
 "cells": [
  {
   "cell_type": "code",
   "execution_count": 1,
   "metadata": {},
   "outputs": [],
   "source": [
    "import numpy as np\n",
    "import pandas as pd\n",
    "import matplotlib.pyplot as plt\n",
    "import stripROtools\n",
    "import matplotlib.pyplot as plt\n",
    "import matplotlib.cm as cmx\n",
    "import matplotlib\n",
    "from mpl_toolkits.mplot3d import Axes3D\n",
    "from scipy import stats\n",
    "from scipy.optimize import curve_fit\n",
    "from scipy.stats import crystalball\n",
    "from stripROtools import colors\n",
    "\n",
    "\n"
   ]
  },
  {
   "cell_type": "code",
   "execution_count": 2,
   "metadata": {},
   "outputs": [
    {
     "data": {
      "text/html": [
       "<div>\n",
       "<style scoped>\n",
       "    .dataframe tbody tr th:only-of-type {\n",
       "        vertical-align: middle;\n",
       "    }\n",
       "\n",
       "    .dataframe tbody tr th {\n",
       "        vertical-align: top;\n",
       "    }\n",
       "\n",
       "    .dataframe thead th {\n",
       "        text-align: right;\n",
       "    }\n",
       "</style>\n",
       "<table border=\"1\" class=\"dataframe\">\n",
       "  <thead>\n",
       "    <tr style=\"text-align: right;\">\n",
       "      <th></th>\n",
       "      <th>Name</th>\n",
       "      <th>x_res</th>\n",
       "      <th>x_res_err</th>\n",
       "      <th>y_res</th>\n",
       "      <th>y_res_err</th>\n",
       "      <th>abs_z</th>\n",
       "    </tr>\n",
       "  </thead>\n",
       "  <tbody>\n",
       "    <tr>\n",
       "      <th>0</th>\n",
       "      <td>UH_DLC_a</td>\n",
       "      <td>[38.16907789152161, 34.35866102947176, 36.6614...</td>\n",
       "      <td>[0.596621645797058, 0.6226449953320682, 0.7022...</td>\n",
       "      <td>[40.03207045457232, 38.97780874418523, 41.8049...</td>\n",
       "      <td>[0.5890397191653336, 0.7442200766452106, 0.920...</td>\n",
       "      <td>[0.1, 0.3, 0.5, 0.7, 0.9, 1.1]</td>\n",
       "    </tr>\n",
       "    <tr>\n",
       "      <th>1</th>\n",
       "      <td>UH_NoDLC_a</td>\n",
       "      <td>[44.92006751046693, 40.629844330262685, 41.239...</td>\n",
       "      <td>[0.6181425149706512, 0.6056898502327592, 0.632...</td>\n",
       "      <td>[45.72106170084714, 43.8433801744892, 44.57186...</td>\n",
       "      <td>[0.653874914711745, 0.6728088058685272, 0.7130...</td>\n",
       "      <td>[0.1, 0.3, 0.5, 0.7, 0.9, 1.1]</td>\n",
       "    </tr>\n",
       "    <tr>\n",
       "      <th>2</th>\n",
       "      <td>UoS</td>\n",
       "      <td>[32.43984400412825, 36.143156445889176, 36.051...</td>\n",
       "      <td>[0.716486134909024, 0.8753530885048227, 0.9743...</td>\n",
       "      <td>[39.23799765685965, 37.96034718180943, 36.5710...</td>\n",
       "      <td>[0.8910149691024238, 1.17475272162833, 1.11738...</td>\n",
       "      <td>[0.1, 0.3, 0.5, 0.7, 0.9, 1.1]</td>\n",
       "    </tr>\n",
       "  </tbody>\n",
       "</table>\n",
       "</div>"
      ],
      "text/plain": [
       "         Name                                              x_res  \\\n",
       "0    UH_DLC_a  [38.16907789152161, 34.35866102947176, 36.6614...   \n",
       "1  UH_NoDLC_a  [44.92006751046693, 40.629844330262685, 41.239...   \n",
       "2         UoS  [32.43984400412825, 36.143156445889176, 36.051...   \n",
       "\n",
       "                                           x_res_err  \\\n",
       "0  [0.596621645797058, 0.6226449953320682, 0.7022...   \n",
       "1  [0.6181425149706512, 0.6056898502327592, 0.632...   \n",
       "2  [0.716486134909024, 0.8753530885048227, 0.9743...   \n",
       "\n",
       "                                               y_res  \\\n",
       "0  [40.03207045457232, 38.97780874418523, 41.8049...   \n",
       "1  [45.72106170084714, 43.8433801744892, 44.57186...   \n",
       "2  [39.23799765685965, 37.96034718180943, 36.5710...   \n",
       "\n",
       "                                           y_res_err  \\\n",
       "0  [0.5890397191653336, 0.7442200766452106, 0.920...   \n",
       "1  [0.653874914711745, 0.6728088058685272, 0.7130...   \n",
       "2  [0.8910149691024238, 1.17475272162833, 1.11738...   \n",
       "\n",
       "                            abs_z  \n",
       "0  [0.1, 0.3, 0.5, 0.7, 0.9, 1.1]  \n",
       "1  [0.1, 0.3, 0.5, 0.7, 0.9, 1.1]  \n",
       "2  [0.1, 0.3, 0.5, 0.7, 0.9, 1.1]  "
      ]
     },
     "execution_count": 2,
     "metadata": {},
     "output_type": "execute_result"
    }
   ],
   "source": [
    "# Load exp data\n",
    "df_exp = pd.read_pickle(\"./data/resolution_exp.pk\")\n",
    "\n",
    "# Load sim data\n",
    "df_sim = pd.read_pickle(\"./data/resolution_sim.pk\")\n",
    "\n",
    "\n",
    "df_sim.head()"
   ]
  },
  {
   "cell_type": "code",
   "execution_count": 3,
   "metadata": {},
   "outputs": [],
   "source": [
    "# fit function used to determine contributions to effective point resolution that are not included in simulation\n",
    "def fit(x, a):\n",
    "\treturn np.sqrt(x**2 + a**2)"
   ]
  },
  {
   "cell_type": "markdown",
   "metadata": {},
   "source": [
    "# UH DLC Quadrant a"
   ]
  },
  {
   "cell_type": "code",
   "execution_count": 4,
   "metadata": {},
   "outputs": [
    {
     "data": {
      "image/png": "[encoded data removed]",
      "text/plain": [
       "<Figure size 432x288 with 1 Axes>"
      ]
     },
     "metadata": {
      "needs_background": "light"
     },
     "output_type": "display_data"
    }
   ],
   "source": [
    "# index specifying detector\n",
    "index = 0\n",
    "\n",
    "abs_z = np.array(df_exp.iloc[index].abs_z)\n",
    "x_res = np.array(df_exp.iloc[index].x_res)\n",
    "x_res_err = np.array(df_exp.iloc[index].x_res_err)\n",
    "y_res = np.array(df_exp.iloc[index].y_res)\n",
    "y_res_err = np.array(df_exp.iloc[index].y_res_err)\n",
    "x_res_sim = np.array(df_sim.iloc[index].x_res)\n",
    "x_res_err_sim = np.array(df_sim.iloc[index].x_res_err)\n",
    "y_res_sim = np.array(df_sim.iloc[index].y_res)\n",
    "y_res_err_sim = np.array(df_sim.iloc[index].y_res_err)\n",
    "\n",
    "DTrans = 0.0135\n",
    "\n",
    "\n",
    "plt.figure()\n",
    "plt.errorbar(abs_z,x_res_sim,x_res_err_sim,color=colors[\"blue\"],label=\"$\\sigma_{\\Delta x}^{sim.}$\")\n",
    "plt.errorbar(abs_z,y_res_sim,y_res_err_sim,color=colors[\"red\"],label=\"$\\sigma_{\\Delta y}^{sim.}$\")\n",
    "plt.errorbar(abs_z,x_res,x_res_err, color=colors[\"blue\"],fmt='o',label=\"$\\sigma_{\\Delta x}^{exp.}$\")\n",
    "plt.errorbar(abs_z,y_res,y_res_err, color=colors[\"red\"],fmt='o',label=\"$\\sigma_{\\Delta y}^{exp.}$\")\n",
    "plt.plot(abs_z, np.sqrt( ( 200/np.sqrt(12) )**2 +(np.sqrt(abs_z)*DTrans*10000)**2), \"--\",color=colors[\"black\"],label=\"$\\sigma_p(z)$\")\n",
    "plt.xticks(fontsize=17)\n",
    "plt.yticks(fontsize=17)\n",
    "plt.legend(ncol=2,fontsize=17)\n",
    "plt.ylim((0,250))\n",
    "plt.xlabel(\"Abs. z [cm]\",fontsize=17)\n",
    "plt.ylabel(\"Mismeasurment [$\\mu$m]\",fontsize=17)\n",
    "plt.tight_layout()\n",
    "plt.savefig(\"./figures/UH_DLC_PR.pdf\")\n"
   ]
  },
  {
   "cell_type": "code",
   "execution_count": 5,
   "metadata": {},
   "outputs": [
    {
     "name": "stdout",
     "output_type": "stream",
     "text": [
      "The additional point res. contribution on the x strips is:  31.515441289621403 +/- 2.111952856109742\n",
      "The additional point res. contribution on the y strips is:  15.04137881526786 +/- 3.491189378126865\n"
     ]
    }
   ],
   "source": [
    "# Fit simulation data + additional resolution term to experimental data on the x strips\n",
    "\n",
    "x_vals = x_res_sim\n",
    "sigmas = np.sqrt(x_res_err**2 + x_res_err_sim**2)\n",
    "y_vals = x_res\n",
    "\n",
    "coeff, covar = curve_fit(fit, x_vals, y_vals, sigma=sigmas, absolute_sigma=True)\n",
    "\n",
    "\n",
    "print(\"The additional point res. contribution on the x strips is: \", coeff[0], \"+/-\", np.sqrt(np.diag(covar))[0])\n",
    "\n",
    "\n",
    "x_vals = y_res_sim\n",
    "sigmas = np.sqrt(y_res_err**2 + y_res_err_sim**2)\n",
    "y_vals = y_res\n",
    "\n",
    "coeff, covar = curve_fit(fit, x_vals, y_vals, sigma=sigmas, absolute_sigma=True)\n",
    "\n",
    "\n",
    "print(\"The additional point res. contribution on the y strips is: \", coeff[0], \"+/-\", np.sqrt(np.diag(covar))[0])\n",
    "\n",
    "\n"
   ]
  },
  {
   "cell_type": "code",
   "execution_count": 6,
   "metadata": {},
   "outputs": [
    {
     "name": "stdout",
     "output_type": "stream",
     "text": [
      "The additional point res. contribution on the x strips is:  29.446561568333202 +/- 2.2412037561497367\n",
      "The additional point res. contribution on the y strips is:  10.349065670881384 +/- 4.977825610573194\n"
     ]
    }
   ],
   "source": [
    "# Repeat fit but omit the last point\n",
    "\n",
    "\n",
    "x_vals = x_res_sim[:-1]\n",
    "sigmas = np.sqrt(x_res_err**2 + x_res_err_sim**2)[:-1]\n",
    "y_vals = x_res[:-1]\n",
    "\n",
    "coeff, covar = curve_fit(fit, x_vals, y_vals, sigma=sigmas, absolute_sigma=True)\n",
    "\n",
    "\n",
    "print(\"The additional point res. contribution on the x strips is: \", coeff[0], \"+/-\", np.sqrt(np.diag(covar))[0])\n",
    "\n",
    "\n",
    "x_vals = y_res_sim[:-1]\n",
    "sigmas = np.sqrt(y_res_err**2 + y_res_err_sim**2)[:-1]\n",
    "y_vals = y_res[:-1]\n",
    "\n",
    "coeff, covar = curve_fit(fit, x_vals, y_vals, sigma=sigmas, absolute_sigma=True)\n",
    "\n",
    "\n",
    "print(\"The additional point res. contribution on the y strips is: \", coeff[0], \"+/-\", np.sqrt(np.diag(covar))[0])\n",
    "\n",
    "\n"
   ]
  },
  {
   "cell_type": "markdown",
   "metadata": {},
   "source": [
    "# UH NoDLC Quadrant a"
   ]
  },
  {
   "cell_type": "code",
   "execution_count": 7,
   "metadata": {},
   "outputs": [
    {
     "data": {
      "image/png": "[encoded data removed]",
      "text/plain": [
       "<Figure size 432x288 with 1 Axes>"
      ]
     },
     "metadata": {
      "needs_background": "light"
     },
     "output_type": "display_data"
    }
   ],
   "source": [
    "# index specifying detector\n",
    "index = 1\n",
    "\n",
    "abs_z = np.array(df_exp.iloc[index].abs_z)\n",
    "x_res = np.array(df_exp.iloc[index].x_res)\n",
    "x_res_err = np.array(df_exp.iloc[index].x_res_err)\n",
    "y_res = np.array(df_exp.iloc[index].y_res)\n",
    "y_res_err = np.array(df_exp.iloc[index].y_res_err)\n",
    "x_res_sim = np.array(df_sim.iloc[index].x_res)\n",
    "x_res_err_sim = np.array(df_sim.iloc[index].x_res_err)\n",
    "y_res_sim = np.array(df_sim.iloc[index].y_res)\n",
    "y_res_err_sim = np.array(df_sim.iloc[index].y_res_err)\n",
    "\n",
    "\n",
    "plt.figure()\n",
    "plt.errorbar(abs_z,x_res_sim,x_res_err_sim,color=colors[\"blue\"],label=\"$\\sigma_{\\Delta x}^{sim.}$\")\n",
    "plt.errorbar(abs_z,y_res_sim,y_res_err_sim,color=colors[\"red\"],label=\"$\\sigma_{\\Delta y}^{sim.}$\")\n",
    "plt.errorbar(abs_z,x_res,x_res_err, color=colors[\"blue\"],fmt='o',label=\"$\\sigma_{\\Delta x}^{exp.}$\")\n",
    "plt.errorbar(abs_z,y_res,y_res_err, color=colors[\"red\"],fmt='o',label=\"$\\sigma_{\\Delta y}^{exp.}$\")\n",
    "plt.plot(abs_z, np.sqrt( ( 200/np.sqrt(12) )**2 +(np.sqrt(abs_z)*DTrans*10000)**2), \"--\",color=colors[\"black\"],label=\"$\\sigma_p(z)$\")\n",
    "plt.xticks(fontsize=17)\n",
    "plt.yticks(fontsize=17)\n",
    "plt.legend(ncol=2,fontsize=17)\n",
    "plt.ylim((0,250))\n",
    "plt.xlabel(\"Abs. z [cm]\",fontsize=17)\n",
    "plt.ylabel(\"Mismeasurment [$\\mu$m]\",fontsize=17)\n",
    "plt.tight_layout()\n",
    "plt.savefig(\"./figures/UH_NoDLC_PR.pdf\")\n"
   ]
  },
  {
   "cell_type": "code",
   "execution_count": 8,
   "metadata": {},
   "outputs": [
    {
     "name": "stdout",
     "output_type": "stream",
     "text": [
      "The additional point res. contribution on the x strips is:  26.711492287671273 +/- 2.520447859529788\n",
      "The additional point res. contribution on the y strips is:  17.10193120638078 +/- 3.8405577899733565\n"
     ]
    }
   ],
   "source": [
    "# Fit simulation data + additional resolution term to experimental data on the x strips\n",
    "\n",
    "x_vals = x_res_sim\n",
    "sigmas = np.sqrt(x_res_err**2 + x_res_err_sim**2)\n",
    "y_vals = x_res\n",
    "\n",
    "coeff, covar = curve_fit(fit, x_vals, y_vals, sigma=sigmas, absolute_sigma=True)\n",
    "\n",
    "\n",
    "print(\"The additional point res. contribution on the x strips is: \", coeff[0], \"+/-\", np.sqrt(np.diag(covar))[0])\n",
    "\n",
    "\n",
    "x_vals = y_res_sim\n",
    "sigmas = np.sqrt(y_res_err**2 + y_res_err_sim**2)\n",
    "y_vals = y_res\n",
    "\n",
    "coeff, covar = curve_fit(fit, x_vals, y_vals, sigma=sigmas, absolute_sigma=True)\n",
    "\n",
    "\n",
    "print(\"The additional point res. contribution on the y strips is: \", coeff[0], \"+/-\", np.sqrt(np.diag(covar))[0])\n",
    "\n",
    "\n"
   ]
  },
  {
   "cell_type": "code",
   "execution_count": 21,
   "metadata": {},
   "outputs": [
    {
     "name": "stdout",
     "output_type": "stream",
     "text": [
      "The additional point res. contribution on the x strips is:  25.62992584203837 +/- 2.63481686277702\n",
      "The additional point res. contribution on the y strips is:  14.347787615075983 +/- 4.54895239281945\n"
     ]
    }
   ],
   "source": [
    "# Repeat fit but omit the last point\n",
    "\n",
    "\n",
    "x_vals = x_res_sim[:-1]\n",
    "sigmas = np.sqrt(x_res_err**2 + x_res_err_sim**2)[:-1]\n",
    "y_vals = x_res[:-1]\n",
    "\n",
    "coeff, covar = curve_fit(fit, x_vals, y_vals, sigma=sigmas, absolute_sigma=True)\n",
    "\n",
    "\n",
    "print(\"The additional point res. contribution on the x strips is: \", coeff[0], \"+/-\", np.sqrt(np.diag(covar))[0])\n",
    "\n",
    "\n",
    "x_vals = y_res_sim[:-1]\n",
    "sigmas = np.sqrt(y_res_err**2 + y_res_err_sim**2)[:-1]\n",
    "y_vals = y_res[:-1]\n",
    "\n",
    "coeff, covar = curve_fit(fit, x_vals, y_vals, sigma=sigmas, absolute_sigma=True)\n",
    "\n",
    "\n",
    "print(\"The additional point res. contribution on the y strips is: \", coeff[0], \"+/-\", np.sqrt(np.diag(covar))[0])\n",
    "\n",
    "\n"
   ]
  }
 ],
 "metadata": {
  "kernelspec": {
   "display_name": "Python 3.7.3 ('my_root_env')",
   "language": "python",
   "name": "python3"
  },
  "language_info": {
   "codemirror_mode": {
    "name": "ipython",
    "version": 3
   },
   "file_extension": ".py",
   "mimetype": "text/x-python",
   "name": "python",
   "nbconvert_exporter": "python",
   "pygments_lexer": "ipython3",
   "version": "3.7.3"
  },
  "vscode": {
   "interpreter": {
    "hash": "e137a2665c242313c11d472736bb1efbdaf7608c607fce3fc4f47a32817024ba"
   }
  }
 },
 "nbformat": 4,
 "nbformat_minor": 4
}
